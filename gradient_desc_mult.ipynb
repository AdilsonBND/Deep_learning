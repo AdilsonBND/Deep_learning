{
 "cells": [
  {
   "cell_type": "code",
   "execution_count": 80,
   "metadata": {},
   "outputs": [],
   "source": [
    "import numpy as np\n",
    "import pandas as pd\n",
    "import matplotlib.pyplot as plt\n",
    "import math"
   ]
  },
  {
   "cell_type": "code",
   "execution_count": 81,
   "metadata": {},
   "outputs": [],
   "source": [
    "#carregamento dos dados\n",
    "df = pd.read_csv('prices.csv')"
   ]
  },
  {
   "cell_type": "code",
   "execution_count": 82,
   "metadata": {},
   "outputs": [
    {
     "data": {
      "text/html": [
       "<div>\n",
       "<style scoped>\n",
       "    .dataframe tbody tr th:only-of-type {\n",
       "        vertical-align: middle;\n",
       "    }\n",
       "\n",
       "    .dataframe tbody tr th {\n",
       "        vertical-align: top;\n",
       "    }\n",
       "\n",
       "    .dataframe thead th {\n",
       "        text-align: right;\n",
       "    }\n",
       "</style>\n",
       "<table border=\"1\" class=\"dataframe\">\n",
       "  <thead>\n",
       "    <tr style=\"text-align: right;\">\n",
       "      <th></th>\n",
       "      <th>size</th>\n",
       "      <th>bedroom</th>\n",
       "      <th>price</th>\n",
       "    </tr>\n",
       "  </thead>\n",
       "  <tbody>\n",
       "    <tr>\n",
       "      <th>0</th>\n",
       "      <td>2104</td>\n",
       "      <td>3</td>\n",
       "      <td>399900</td>\n",
       "    </tr>\n",
       "    <tr>\n",
       "      <th>1</th>\n",
       "      <td>1600</td>\n",
       "      <td>3</td>\n",
       "      <td>329900</td>\n",
       "    </tr>\n",
       "    <tr>\n",
       "      <th>2</th>\n",
       "      <td>2400</td>\n",
       "      <td>3</td>\n",
       "      <td>369000</td>\n",
       "    </tr>\n",
       "    <tr>\n",
       "      <th>3</th>\n",
       "      <td>1416</td>\n",
       "      <td>2</td>\n",
       "      <td>232000</td>\n",
       "    </tr>\n",
       "    <tr>\n",
       "      <th>4</th>\n",
       "      <td>3000</td>\n",
       "      <td>4</td>\n",
       "      <td>539900</td>\n",
       "    </tr>\n",
       "  </tbody>\n",
       "</table>\n",
       "</div>"
      ],
      "text/plain": [
       "   size  bedroom   price\n",
       "0  2104        3  399900\n",
       "1  1600        3  329900\n",
       "2  2400        3  369000\n",
       "3  1416        2  232000\n",
       "4  3000        4  539900"
      ]
     },
     "execution_count": 82,
     "metadata": {},
     "output_type": "execute_result"
    }
   ],
   "source": [
    "df.head()"
   ]
  },
  {
   "cell_type": "code",
   "execution_count": 83,
   "metadata": {},
   "outputs": [],
   "source": [
    "#normalização\n",
    "df_norm = (df - df.mean())/df.std()"
   ]
  },
  {
   "cell_type": "code",
   "execution_count": 84,
   "metadata": {},
   "outputs": [
    {
     "data": {
      "text/html": [
       "<div>\n",
       "<style scoped>\n",
       "    .dataframe tbody tr th:only-of-type {\n",
       "        vertical-align: middle;\n",
       "    }\n",
       "\n",
       "    .dataframe tbody tr th {\n",
       "        vertical-align: top;\n",
       "    }\n",
       "\n",
       "    .dataframe thead th {\n",
       "        text-align: right;\n",
       "    }\n",
       "</style>\n",
       "<table border=\"1\" class=\"dataframe\">\n",
       "  <thead>\n",
       "    <tr style=\"text-align: right;\">\n",
       "      <th></th>\n",
       "      <th>size</th>\n",
       "      <th>bedroom</th>\n",
       "      <th>price</th>\n",
       "    </tr>\n",
       "  </thead>\n",
       "  <tbody>\n",
       "    <tr>\n",
       "      <th>0</th>\n",
       "      <td>-0.247420</td>\n",
       "      <td>0.207020</td>\n",
       "      <td>0.393194</td>\n",
       "    </tr>\n",
       "    <tr>\n",
       "      <th>1</th>\n",
       "      <td>-0.923037</td>\n",
       "      <td>0.207020</td>\n",
       "      <td>-0.338816</td>\n",
       "    </tr>\n",
       "    <tr>\n",
       "      <th>2</th>\n",
       "      <td>0.149371</td>\n",
       "      <td>0.207020</td>\n",
       "      <td>0.070064</td>\n",
       "    </tr>\n",
       "    <tr>\n",
       "      <th>3</th>\n",
       "      <td>-1.169691</td>\n",
       "      <td>-1.242118</td>\n",
       "      <td>-1.362586</td>\n",
       "    </tr>\n",
       "    <tr>\n",
       "      <th>4</th>\n",
       "      <td>0.953677</td>\n",
       "      <td>1.656157</td>\n",
       "      <td>1.857216</td>\n",
       "    </tr>\n",
       "    <tr>\n",
       "      <th>5</th>\n",
       "      <td>-0.386833</td>\n",
       "      <td>-1.242118</td>\n",
       "      <td>-0.647307</td>\n",
       "    </tr>\n",
       "    <tr>\n",
       "      <th>6</th>\n",
       "      <td>1.623933</td>\n",
       "      <td>0.207020</td>\n",
       "      <td>0.028235</td>\n",
       "    </tr>\n",
       "  </tbody>\n",
       "</table>\n",
       "</div>"
      ],
      "text/plain": [
       "       size   bedroom     price\n",
       "0 -0.247420  0.207020  0.393194\n",
       "1 -0.923037  0.207020 -0.338816\n",
       "2  0.149371  0.207020  0.070064\n",
       "3 -1.169691 -1.242118 -1.362586\n",
       "4  0.953677  1.656157  1.857216\n",
       "5 -0.386833 -1.242118 -0.647307\n",
       "6  1.623933  0.207020  0.028235"
      ]
     },
     "execution_count": 84,
     "metadata": {},
     "output_type": "execute_result"
    }
   ],
   "source": [
    "df_norm"
   ]
  },
  {
   "cell_type": "code",
   "execution_count": 85,
   "metadata": {},
   "outputs": [
    {
     "data": {
      "text/plain": [
       "2"
      ]
     },
     "execution_count": 85,
     "metadata": {},
     "output_type": "execute_result"
    }
   ],
   "source": [
    "n_features = len(df_norm.columns) -1\n",
    "n_features"
   ]
  },
  {
   "cell_type": "code",
   "execution_count": 86,
   "metadata": {},
   "outputs": [
    {
     "data": {
      "text/plain": [
       "array([[0.00375151, 0.44479209, 0.50730593]])"
      ]
     },
     "execution_count": 86,
     "metadata": {},
     "output_type": "execute_result"
    }
   ],
   "source": [
    "#valores dos pesos randomicos antes do treinamento\n",
    "w = np.random.rand(1, n_features+1)\n",
    "w"
   ]
  },
  {
   "cell_type": "code",
   "execution_count": 87,
   "metadata": {},
   "outputs": [],
   "source": [
    "#separado os dados tamanho do imóvel e quantidade de banheiros dos preços aos quais buscaremos prever\n",
    "#features e targets\n",
    "X = np.array(df_norm.drop('price', axis=1))\n",
    "y = df_norm.iloc[:, 2:3].values\n"
   ]
  },
  {
   "cell_type": "code",
   "execution_count": 88,
   "metadata": {},
   "outputs": [],
   "source": [
    "'''tratando-se de múltiplas variáveis (tamanho do imóvel e quantidade de banheiros), a fórmula para os pesos é:\n",
    "Wj = Wj - aplha/m * (somatório da hipóstese - Y(i)) * Xj(i)\n",
    "fórmula hipótese: W(transposta)*X (matriz transposta de pesos para multiplicar-se com valores X)\n",
    "nesta fórmula tem-se a necessidade de preencher os valores W0 com 1, junção a ser realizar abaixo:\n",
    "'''\n",
    "def insert_ones(X):\n",
    "    ones = np.ones([X.shape[0],1])\n",
    "    return np.concatenate((ones, X), axis =1)"
   ]
  },
  {
   "cell_type": "code",
   "execution_count": 89,
   "metadata": {},
   "outputs": [],
   "source": [
    "''' função que retorna custo\n",
    "custo = a soma de todos os valores hipótese - Y, elevado ao quadrado e dividido pela quantidade para obter média'''\n",
    "def custo(w,X,y):\n",
    "    m = len(X)\n",
    "    erro = (X@w.T -y)\n",
    "    custo = np.sum(np.power(erro,2))\n",
    "    return custo/m"
   ]
  },
  {
   "cell_type": "code",
   "execution_count": 90,
   "metadata": {},
   "outputs": [],
   "source": [
    "# definição de aplha, epoch e inserção de 1 para pesos w0\n",
    "X = insert_ones(X)\n",
    "alpha = 0.01\n",
    "epoch = 800"
   ]
  },
  {
   "cell_type": "code",
   "execution_count": 91,
   "metadata": {},
   "outputs": [],
   "source": [
    "''' função que realizará o gradiente descendente na quantidade de vees estipulada em epoch com a velocidade\n",
    "já definidade na variável alpha, fórmula:\n",
    "peso, menos alpha dividido pela quantidade de amostras de X, vezes somatório da hipótese menos Y, multiplicado por X\n",
    "'''\n",
    "def gradient_descent(w, X, y, alpha, epoch):\n",
    "    cost = np.zeros(epoch)\n",
    "    for i in range(epoch):\n",
    "        ''' hipotese = np.dot(X, w.T)\n",
    "        erro = hipotese - y\n",
    "        erro_x = erro * X\n",
    "        somatorio = np.sum(erro_x, axis=0)\n",
    "        gradiente = (alpha/len(X)) * somatorio\n",
    "        w = w - gradiente\n",
    "        cost = custo(w,X,y)'''\n",
    "        w = w - (alpha/len(X)) * np.sum((X@w.T - y)*X, axis=0)\n",
    "        cost[i] = custo(w,X,y)\n",
    "    return w, cost\n"
   ]
  },
  {
   "cell_type": "code",
   "execution_count": 92,
   "metadata": {},
   "outputs": [],
   "source": [
    "#obtendo pesos e custos com a fórmula do gradiente\n",
    "w, cost = gradient_descent(w,X,y,alpha,epoch)"
   ]
  },
  {
   "cell_type": "code",
   "execution_count": 93,
   "metadata": {},
   "outputs": [
    {
     "data": {
      "text/plain": [
       "0.10072431565515123"
      ]
     },
     "execution_count": 93,
     "metadata": {},
     "output_type": "execute_result"
    }
   ],
   "source": [
    "custo(w,X,y)"
   ]
  },
  {
   "cell_type": "code",
   "execution_count": 94,
   "metadata": {},
   "outputs": [
    {
     "data": {
      "text/plain": [
       "Text(0.5, 1.0, 'Erro vs Epoch')"
      ]
     },
     "execution_count": 94,
     "metadata": {},
     "output_type": "execute_result"
    },
    {
     "data": {
      "image/png": "[encoded data removed]",
      "text/plain": [
       "<Figure size 640x480 with 1 Axes>"
      ]
     },
     "metadata": {},
     "output_type": "display_data"
    }
   ],
   "source": [
    "fig, ax = plt.subplots()\n",
    "ax.plot(np.arange(epoch),cost,'r')\n",
    "ax.set_xlabel(\"Iterações\")\n",
    "ax.set_ylabel(\"Custo\")\n",
    "ax.set_title(\"Erro vs Epoch\")"
   ]
  },
  {
   "cell_type": "code",
   "execution_count": 95,
   "metadata": {},
   "outputs": [
    {
     "data": {
      "text/plain": [
       "array([[1.20881889e-06, 1.51254933e-01, 8.33544294e-01]])"
      ]
     },
     "execution_count": 95,
     "metadata": {},
     "output_type": "execute_result"
    }
   ],
   "source": [
    "#valores dos pesos após treinamento, idealizados para mensurar os valores dos imóveis com base no seu tramanho e quantidade de banheiros\n",
    "w"
   ]
  }
 ],
 "metadata": {
  "kernelspec": {
   "display_name": "base",
   "language": "python",
   "name": "python3"
  },
  "language_info": {
   "codemirror_mode": {
    "name": "ipython",
    "version": 3
   },
   "file_extension": ".py",
   "mimetype": "text/x-python",
   "name": "python",
   "nbconvert_exporter": "python",
   "pygments_lexer": "ipython3",
   "version": "3.10.9"
  },
  "orig_nbformat": 4
 },
 "nbformat": 4,
 "nbformat_minor": 2
}
